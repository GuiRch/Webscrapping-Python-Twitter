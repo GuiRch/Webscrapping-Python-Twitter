{
 "cells": [
  {
   "cell_type": "raw",
   "metadata": {},
   "source": [
    "6) Webscrapping des twitt sur le top10 des cryptomonnaies pour prédiction de la tendance du mois n+1 \n",
    "- L'idée est similaire au cas des banquiers centraux mais cette fois ci avec une crypto ou un panier de crypto pour prédire la tendance du mois suivant."
   ]
  },
  {
   "cell_type": "code",
   "execution_count": 36,
   "metadata": {},
   "outputs": [],
   "source": [
    "import pytrends\n",
    "import snscrape.modules.twitter as sntwitter\n",
    "import pandas as pd\n",
    "import csv\n",
    "import os \n",
    "import glob\n",
    "from itertools import chain\n",
    "import numpy as np\n",
    "import matplotlib.pyplot as plt"
   ]
  },
  {
   "cell_type": "code",
   "execution_count": 13,
   "metadata": {
    "scrolled": true
   },
   "outputs": [
    {
     "name": "stdout",
     "output_type": "stream",
     "text": [
      "                     DateTime             Tweet Id  \\\n",
      "0   2019-12-31 19:48:31+00:00  1212098224674263040   \n",
      "1   2019-12-31 19:14:33+00:00  1212089678071025665   \n",
      "2   2019-12-31 16:00:07+00:00  1212040748834660355   \n",
      "3   2019-12-31 11:31:28+00:00  1211973138348687360   \n",
      "4   2019-12-31 10:44:40+00:00  1211961363163168774   \n",
      "..                        ...                  ...   \n",
      "496 2019-10-29 12:04:50+00:00  1189151100558987264   \n",
      "497 2019-10-29 10:55:09+00:00  1189133564094210048   \n",
      "498 2019-10-29 09:43:26+00:00  1189115515802808321   \n",
      "499 2019-10-29 09:11:18+00:00  1189107431927795719   \n",
      "500 2019-10-29 07:20:38+00:00  1189079580381892608   \n",
      "\n",
      "                                                  Text Username  \n",
      "0    Wow! Congrats again to the winners! #BinanceCo...  binance  \n",
      "1    Distribution of the EXCHANGE THE WORLD 2019 NF...  binance  \n",
      "2    Happy New Year from all of us at #Binance!\\n\\n...  binance  \n",
      "3    $4,000 sent. $6,000 left. #Binance\\n\\nGet invo...  binance  \n",
      "4    $4,000 sent. $6,000 left. #Binance\\n\\nTI3Q2729...  binance  \n",
      "..                                                 ...      ...  \n",
      "496  #Binance Will Discontinue Support For Stellar ...  binance  \n",
      "497  #Binance Has Distributed October $WIN\\nhttps:/...  binance  \n",
      "498  #Binance Will Support the @cybermiles $CMT Mai...  binance  \n",
      "499  #BinanceFutures Update\\n\\nFunding Rate Formula...  binance  \n",
      "500  #Binance Adds Margin Trading for $IOST and $VE...  binance  \n",
      "\n",
      "[501 rows x 4 columns]\n"
     ]
    }
   ],
   "source": [
    "tweet_list=[]\n",
    "\n",
    "for i, tweet in enumerate(sntwitter.TwitterSearchScraper('from:binance since:2015-01-01 until:2020-01-01').get_items()):\n",
    "    if i>500:\n",
    "        break\n",
    "    tweet_list.append([tweet.date, tweet.id, tweet.content, tweet.username])\n",
    "    \n",
    "tweet_df = pd.DataFrame(tweet_list, columns=['DateTime', 'Tweet Id', 'Text', 'Username'])\n",
    "print(tweet_df)"
   ]
  },
  {
   "cell_type": "code",
   "execution_count": 11,
   "metadata": {},
   "outputs": [
    {
     "ename": "SyntaxError",
     "evalue": "invalid syntax (<ipython-input-11-dfac44676055>, line 1)",
     "output_type": "error",
     "traceback": [
      "\u001b[1;36m  File \u001b[1;32m\"<ipython-input-11-dfac44676055>\"\u001b[1;36m, line \u001b[1;32m1\u001b[0m\n\u001b[1;33m    include_blocking=1&include_blocked_by=1&include_followed_by=1&include_want_retweets=1&\u001b[0m\n\u001b[1;37m                                                                                          ^\u001b[0m\n\u001b[1;31mSyntaxError\u001b[0m\u001b[1;31m:\u001b[0m invalid syntax\n"
     ]
    }
   ],
   "source": [
    "include_blocking=1&include_blocked_by=1&include_followed_by=1&include_want_retweets=1&\n",
    "        include_mute_edge=1&include_can_dm=1&include_can_media_tag=1&skip_status=10\n",
    "        &cards_platform=Web-12&include_cards=1&include_composer_source=true&\n",
    "        include_ext_alt_text=true&include_reply_count=1&tweet_mode=extended&\n",
    "        include_entities=true&include_user_entities=true&\n",
    "        include_ext_media_color=true&include_ext_media_availability=true&\n",
    "        send_error_codes=true&simple_quoted_tweets=true&\n",
    "        q=%23bitcoin+since%3A2018-02-01+until%3A2018-02-28&\n",
    "        tweet_search_mode=live&count=100&\n",
    "        query_source=spelling_expansion_revert_click&\n",
    "        cursor=scroll%3AthGAVUV0VFVBaCwLvNl6vF7hoWgMC81eKFpfEaEjUAFQAlABEV8Kc7FYCJehgEVVNFUhUAFQAVARWCChUAAA%3D%3D&pc=1&\n",
    "        spelling_corrections=1&ext=mediaStats%252CcameraMoment"
   ]
  },
  {
   "cell_type": "markdown",
   "metadata": {},
   "source": [
    "Utilitaires \n",
    "\n",
    "- Fonction qui permet de créer un dataset sur un csv\n",
    "\n",
    "- Utiliser une api pour récupèrer le prix des cryptomonaies (coingecko, coinmarkecap, ...)\n"
   ]
  },
  {
   "cell_type": "markdown",
   "metadata": {},
   "source": [
    "Compte twitter les plus influents:\n",
    "\n",
    "- Personnes : Justin Sun, Vitalik Buterin, Charlie Lee, Naval Ravikant, Marc Andreessen, Fred Wilson, Roger Ver, Chris Dixon\n",
    "- Personnes sans lien avec la cryptomonaie : Donald Trump, Joe Biden, Elon Musk\n",
    "- Entreprises : Blockchain.com, Purse.io, Bitpay, Kraken, Shapeshift, Safello, Binance, Bitrex"
   ]
  },
  {
   "cell_type": "markdown",
   "metadata": {},
   "source": [
    "Introduction : \n",
    "\n",
    "L'idée est de prévoir comment va évoluer le prix d'une ou plusieurs crypto monnaies en en utilisant du scrapping twitter."
   ]
  },
  {
   "cell_type": "markdown",
   "metadata": {},
   "source": [
    "Description des idées :\n",
    "\n",
    "- 1ère idée : Ici nous allons scrapper les tweets depuis les plus gros compte de cryptomonnaie (ex: binance, bitrex, ...) et essayer de mesurer leur influences ou leur attractivité grâce à l'évolution du nombre de retweet et de like sur des périodes de temps données.\n",
    "\n",
    "- 2ème idée : Scrapper des tweet grâce à un hastag et leur donner un poids en fonction de leur \"influence\" que l'on mesurera avec leur nombre de retweet et de like. On pourra compter le nombre de tweet sur une période de temps donné pour mesurer la popularité du sujet. Puis on fera une \"analyse de sentiment\" pour en ressortir une tendance, avec NLP.\n",
    "\n",
    "- 3éme idée : Reprendre les comptes twitter qui parlent de cryptomonnaie les plus suivis et de dégager les tendances qui en ressortent, par exemple en étudiants les mots qui ressortent le plus. Puis grâce a des bibliothèque de machine Learning en ressortir une tendance positives ou négative pour le cours des cryptomonnaies. \n"
   ]
  },
  {
   "cell_type": "markdown",
   "metadata": {},
   "source": [
    "Resumé :\n",
    "\n",
    "L'idée ici est de voir si la quantité de tweets et/où l'humeur générale qui s'en dégage, sont des bon indicateurs et si l'un est éventuellement plus utile que l'autre. Pour cela nous pouvons procèder de deux manières différentes : en étudiants les comptes les plus influents ou en prenant un ou plusieurs hastag en particulier pour en prendre un échantillon de tweet."
   ]
  },
  {
   "cell_type": "markdown",
   "metadata": {},
   "source": [
    "Ma première démarche va être de récupèrer les tweets sur une periode donnée, qui va être l'année 2017 avec la bulle du bitcoin, qui l'a fait connaitre assez largement au grand public, avec autant une grosse croissance qu'une grande dépréciation par la suite.\n",
    "Par la suite il serait intéressant de comparer l'influence du nombre de tweet a propos du bitcoin, ou autrement dit, sa popularité et l'humeur générale des tweets, durant une periode calme pour le cours du bitcoin. "
   ]
  },
  {
   "cell_type": "markdown",
   "metadata": {},
   "source": [
    "Création du dataset, on récupère les tweets en anglais sur la periode voulue. Après l'obtention de clé pour utiliser l'API twitter, nous pouvons désormais chercher des tweets de la plus simple des manières."
   ]
  },
  {
   "cell_type": "code",
   "execution_count": 69,
   "metadata": {},
   "outputs": [],
   "source": [
    "import tweepy\n",
    "\n",
    "consumer_key = \"xxxxxxxxxxxxxxxxxxxxxxxxxx\"\n",
    "consumer_secret = \"xxxxxxxxxxxxxxxxxxxxxxxxxxxxxxxxxxxxxxxxxxxx\"\n",
    " \n",
    "# tweepy library to authenticate our API keys\n",
    "auth = tweepy.OAuthHandler(consumer_key, consumer_secret)\n",
    "api = tweepy.API(auth)\n",
    "\n",
    "api = tweepy.API(\n",
    "            auth, wait_on_rate_limit=True, wait_on_rate_limit_notify=True\n",
    "       )\n",
    "\n",
    "def mine_crypto_currency_tweets(self, query=\"BTC\"):\n",
    "\n",
    "    last_tweet_id = False\n",
    "    page_num = 1\n",
    "\n",
    "    data = get_df()\n",
    "    cypto_query = f\"#{query}\"\n",
    "    print(\" ===== \", query, cypto_query)\n",
    "    for page in tweepy.Cursor(\n",
    "        self.api.search,\n",
    "        q=cypto_query,\n",
    "        lang=\"en\",\n",
    "        tweet_mode=\"extended\",\n",
    "        count=200, \n",
    "    ).pages():\n",
    "        print(\" ...... new page\", page_num)\n",
    "        page_num += 1\n",
    "\n",
    "        for item in page:\n",
    "            mined = {\n",
    "                \"tweet_id\": item.id,\n",
    "                \"name\": item.user.name,\n",
    "                \"screen_name\": item.user.screen_name,\n",
    "                \"retweet_count\": item.retweet_count,\n",
    "                \"text\": item.full_text,\n",
    "                \"mined_at\": datetime.datetime.now(),\n",
    "                \"created_at\": item.created_at,\n",
    "                \"favourite_count\": item.favorite_count,\n",
    "                \"hashtags\": item.entities[\"hashtags\"],\n",
    "                \"status_count\": item.user.statuses_count,\n",
    "                \"followers_count\": item.user.followers_count,\n",
    "                \"location\": item.place,\n",
    "                \"source_device\": item.source,\n",
    "            }\n",
    "\n",
    "            try:\n",
    "                mined[\"retweet_text\"] = item.retweeted_status.full_text\n",
    "            except:\n",
    "                mined[\"retweet_text\"] = \"None\"\n",
    "\n",
    "            last_tweet_id = item.id\n",
    "            data = data.append(mined, ignore_index=True)\n",
    "\n",
    "        if page_num % 180 == 0:\n",
    "            date_label = datetime.datetime.now().strftime(\"%Y%m%d_%H%M%S\")\n",
    "            print(\"....... outputting to csv\", page_num, len(data))\n",
    "            data.to_csv(f\"{query}_{page_num}_{date_label}.csv\", index=False)\n",
    "            print(\"  ..... resetting df\")\n",
    "            data = get_df()\n",
    "\n",
    "    date_label = datetime.datetime.now().strftime(\"%Y%m%d_%H%M%S\")\n",
    "    data.to_csv(f\"{query}_{page_num}_{date_label}.csv\", index=False)\n",
    "  "
   ]
  },
  {
   "cell_type": "markdown",
   "metadata": {},
   "source": [
    "Récupération de l'évolution du prix du bitcoin et de l'ethereum sur cette même période.\n",
    "Pour cela on utilise l'API du site Coingecko, qui liste les cryptomonaies et qui fournit une bibliothèque python, simple à utiliser."
   ]
  },
  {
   "cell_type": "code",
   "execution_count": 58,
   "metadata": {
    "scrolled": true
   },
   "outputs": [
    {
     "data": {
      "text/html": [
       "<div>\n",
       "<style scoped>\n",
       "    .dataframe tbody tr th:only-of-type {\n",
       "        vertical-align: middle;\n",
       "    }\n",
       "\n",
       "    .dataframe tbody tr th {\n",
       "        vertical-align: top;\n",
       "    }\n",
       "\n",
       "    .dataframe thead th {\n",
       "        text-align: right;\n",
       "    }\n",
       "</style>\n",
       "<table border=\"1\" class=\"dataframe\">\n",
       "  <thead>\n",
       "    <tr style=\"text-align: right;\">\n",
       "      <th></th>\n",
       "      <th>datetime</th>\n",
       "      <th>date</th>\n",
       "      <th>hour</th>\n",
       "      <th>currency_name</th>\n",
       "      <th>value</th>\n",
       "    </tr>\n",
       "  </thead>\n",
       "  <tbody>\n",
       "    <tr>\n",
       "      <th>0</th>\n",
       "      <td>2020-03-13</td>\n",
       "      <td>2020-03-13</td>\n",
       "      <td>0</td>\n",
       "      <td>bitcoin</td>\n",
       "      <td>5142.990459</td>\n",
       "    </tr>\n",
       "    <tr>\n",
       "      <th>1</th>\n",
       "      <td>2020-03-14</td>\n",
       "      <td>2020-03-14</td>\n",
       "      <td>0</td>\n",
       "      <td>bitcoin</td>\n",
       "      <td>5542.819542</td>\n",
       "    </tr>\n",
       "    <tr>\n",
       "      <th>2</th>\n",
       "      <td>2020-03-15</td>\n",
       "      <td>2020-03-15</td>\n",
       "      <td>0</td>\n",
       "      <td>bitcoin</td>\n",
       "      <td>5214.189112</td>\n",
       "    </tr>\n",
       "    <tr>\n",
       "      <th>3</th>\n",
       "      <td>2020-03-16</td>\n",
       "      <td>2020-03-16</td>\n",
       "      <td>0</td>\n",
       "      <td>bitcoin</td>\n",
       "      <td>5397.933357</td>\n",
       "    </tr>\n",
       "    <tr>\n",
       "      <th>4</th>\n",
       "      <td>2020-03-17</td>\n",
       "      <td>2020-03-17</td>\n",
       "      <td>0</td>\n",
       "      <td>bitcoin</td>\n",
       "      <td>5032.501351</td>\n",
       "    </tr>\n",
       "    <tr>\n",
       "      <th>...</th>\n",
       "      <td>...</td>\n",
       "      <td>...</td>\n",
       "      <td>...</td>\n",
       "      <td>...</td>\n",
       "      <td>...</td>\n",
       "    </tr>\n",
       "    <tr>\n",
       "      <th>594</th>\n",
       "      <td>2020-12-30</td>\n",
       "      <td>2020-12-30</td>\n",
       "      <td>0</td>\n",
       "      <td>ethereum</td>\n",
       "      <td>735.590898</td>\n",
       "    </tr>\n",
       "    <tr>\n",
       "      <th>595</th>\n",
       "      <td>2020-12-31</td>\n",
       "      <td>2020-12-31</td>\n",
       "      <td>0</td>\n",
       "      <td>ethereum</td>\n",
       "      <td>752.855932</td>\n",
       "    </tr>\n",
       "    <tr>\n",
       "      <th>596</th>\n",
       "      <td>2021-01-01</td>\n",
       "      <td>2021-01-01</td>\n",
       "      <td>0</td>\n",
       "      <td>ethereum</td>\n",
       "      <td>738.616938</td>\n",
       "    </tr>\n",
       "    <tr>\n",
       "      <th>597</th>\n",
       "      <td>2021-01-02</td>\n",
       "      <td>2021-01-02</td>\n",
       "      <td>0</td>\n",
       "      <td>ethereum</td>\n",
       "      <td>730.147340</td>\n",
       "    </tr>\n",
       "    <tr>\n",
       "      <th>598</th>\n",
       "      <td>2021-01-03</td>\n",
       "      <td>2021-01-03</td>\n",
       "      <td>0</td>\n",
       "      <td>ethereum</td>\n",
       "      <td>777.696065</td>\n",
       "    </tr>\n",
       "  </tbody>\n",
       "</table>\n",
       "<p>599 rows × 5 columns</p>\n",
       "</div>"
      ],
      "text/plain": [
       "      datetime        date  hour currency_name        value\n",
       "0   2020-03-13  2020-03-13     0       bitcoin  5142.990459\n",
       "1   2020-03-14  2020-03-14     0       bitcoin  5542.819542\n",
       "2   2020-03-15  2020-03-15     0       bitcoin  5214.189112\n",
       "3   2020-03-16  2020-03-16     0       bitcoin  5397.933357\n",
       "4   2020-03-17  2020-03-17     0       bitcoin  5032.501351\n",
       "..         ...         ...   ...           ...          ...\n",
       "594 2020-12-30  2020-12-30     0      ethereum   735.590898\n",
       "595 2020-12-31  2020-12-31     0      ethereum   752.855932\n",
       "596 2021-01-01  2021-01-01     0      ethereum   738.616938\n",
       "597 2021-01-02  2021-01-02     0      ethereum   730.147340\n",
       "598 2021-01-03  2021-01-03     0      ethereum   777.696065\n",
       "\n",
       "[599 rows x 5 columns]"
      ]
     },
     "execution_count": 58,
     "metadata": {},
     "output_type": "execute_result"
    },
    {
     "data": {
      "image/png": "[encoded data removed]",
      "text/plain": [
       "<Figure size 432x288 with 1 Axes>"
      ]
     },
     "metadata": {
      "needs_background": "light"
     },
     "output_type": "display_data"
    }
   ],
   "source": [
    "from pycoingecko import CoinGeckoAPI\n",
    "\n",
    "    \n",
    "gecko_list = [ # on sintéresse dan un premier temps au BTC et à l'ETH\n",
    "    \"bitcoin\",\n",
    "    \"ethereum\",\n",
    "]\n",
    "\n",
    "cg = CoinGeckoAPI()\n",
    "timePeriod = 300\n",
    "\n",
    "data = {}\n",
    "for coin in gecko_list:\n",
    "    try:\n",
    "        nested_lists = cg.get_coin_market_chart_by_id(\n",
    "            id=coin, vs_currency=\"usd\", days=timePeriod\n",
    "        )[\"prices\"]\n",
    "        data[coin] = {}\n",
    "        data[coin][\"timestamps\"], data[coin][\"values\"] = zip(*nested_lists)\n",
    "\n",
    "    except Exception as e:\n",
    "        print(e)\n",
    "        print(\"coin: \" + coin)\n",
    "\n",
    "historique = [\n",
    "    pd.DataFrame(data[coin][\"values\"], index=data[coin][\"timestamps\"], columns=[coin])\n",
    "    for coin in gecko_list\n",
    "    if coin in data\n",
    "]\n",
    "\n",
    "df_cryptocurrency = pd.concat(frame_list, axis=1).sort_index()\n",
    "df_cryptocurrency.plot() # Tracé avant la traduction des dates en quelque chose de lisible pour l'homme.\n",
    "\n",
    "df_cryptocurrency[\"datetime\"] = pd.to_datetime(df_cryptocurrency.index, unit=\"ms\")\n",
    "df_cryptocurrency[\"date\"] = df_cryptocurrency[\"datetime\"].dt.date\n",
    "df_cryptocurrency[\"hour\"] = df_cryptocurrency[\"datetime\"].dt.hour\n",
    "\n",
    "df_cryptocurrency = df_cryptocurrency.melt(\n",
    "    id_vars=[\"datetime\", \"date\", \"hour\"], var_name=\"currency_name\"\n",
    ")\n",
    "df_cryptocurrency.head(-5) #Format lisible pour les dates sur un tableau, mais ne peut être tracé avec la fonction plot()"
   ]
  },
  {
   "cell_type": "markdown",
   "metadata": {},
   "source": [
    "Utiliser et quantifier la popularité du bitcoin sur une periode donnée avec pytrend (google trend) et à l'aide du nombre de tweets qui parlent du bitcoin ou autre cryptomonaie."
   ]
  },
  {
   "cell_type": "code",
   "execution_count": 67,
   "metadata": {},
   "outputs": [
    {
     "data": {
      "image/png": "[encoded data removed]",
      "text/plain": [
       "<Figure size 432x288 with 1 Axes>"
      ]
     },
     "metadata": {
      "needs_background": "light"
     },
     "output_type": "display_data"
    }
   ],
   "source": [
    "pytrend = TrendReq(hl='en-US', tz=360)\n",
    "keywords = ['Bitcoin', 'Ethereum']\n",
    "pytrend.build_payload(\n",
    "     kw_list=keywords,\n",
    "     cat=0,\n",
    "     timeframe='today 3-m',\n",
    "     geo='TW',\n",
    "     gprop='')\n",
    "data = pytrend.interest_over_time()\n",
    "data= data.drop(labels=['isPartial'],axis='columns')\n",
    "image = data.plot(title = 'Bitcoin and Ethereum popularity on google')\n",
    "fig = image.get_figure()"
   ]
  },
  {
   "cell_type": "markdown",
   "metadata": {},
   "source": [
    "De toute évidence, aux vus des résultats, la popularité du mot Bitcoin et l'envolée de son prix sont bel et bien liés. Ceux-ci se produisent aux même moment. Cependant il n'est pas possible de dire si l'un impact l'autre ou inversement."
   ]
  },
  {
   "cell_type": "markdown",
   "metadata": {},
   "source": [
    "Malheureusement pour scraper un grand nombre de tweet, il faut soit prendre beaucoup de temps ou alors payer pour avoir plus de requêtes possible. Une bonne solution est d'utiliser des dataset déjà créé sur internet. J'ai donc décidé d'utiliser un dataset récupéré depuis Kaggle qui rassemble un total de 16 millions de tweet à propos du bitcoin de 2016 à 2019.\n",
    "* https://www.kaggle.com/alaix14/bitcoin-tweets-20160101-to-20190329?select=tweets.csv\n",
    "\n",
    "(pour une raison que je ne comprend pas, il m'est impossible de visualiser les données du csv. Le problème est le même pour les données exportées sur google spreadsheets.)"
   ]
  },
  {
   "cell_type": "markdown",
   "metadata": {},
   "source": [
    "Analyse de sentiment sur notre échantillon pour en tirer une humeur générale. Pour ce faire nous allons utiliser le librairie textblob qui une librairie qui permet de faire de l'analyse de sentiment de données textuelles."
   ]
  },
  {
   "cell_type": "code",
   "execution_count": null,
   "metadata": {},
   "outputs": [],
   "source": [
    "import re\n",
    "\n",
    "#Cette fonction va permettre de nettoyer le texte des emojis, hastag et autres caractères spéciaux,\n",
    "#pour le rendre plus lisible pour TextBlob.\n",
    "def nlp_pipeline(text):\n",
    "\n",
    "    text = text.lower()\n",
    "    text = text.replace('\\n', ' ').replace('\\r', '')\n",
    "    text = ' '.join(text.split())\n",
    "    text = re.sub(r\"[A-Za-z\\.]*[0-9]+[A-Za-z%°\\.]*\", \"\", text)\n",
    "    text = re.sub(r\"(\\s\\-\\s|-$)\", \"\", text)\n",
    "    text = re.sub(r\"[,\\!\\?\\%\\(\\)\\/\\\"]\", \"\", text)\n",
    "    text = re.sub(r\"\\&\\S*\\s\", \"\", text)\n",
    "    text = re.sub(r\"\\&\", \"\", text)\n",
    "    text = re.sub(r\"\\+\", \"\", text)\n",
    "    text = re.sub(r\"\\#\", \"\", text)\n",
    "    text = re.sub(r\"\\$\", \"\", text)\n",
    "    text = re.sub(r\"\\£\", \"\", text)\n",
    "    text = re.sub(r\"\\%\", \"\", text)\n",
    "    text = re.sub(r\"\\:\", \"\", text)\n",
    "    text = re.sub(r\"\\@\", \"\", text)\n",
    "    text = re.sub(r\"\\-\", \"\", text)\n",
    "\n",
    "    return text\n",
    "\n",
    "tweet = pd.read_csv(\"tweets.csv\", sep='delimiter', header=None, engine='python')\n",
    "\n",
    "corpus = df['tweet']\n",
    "corpus_clean = corpus.apply(nlp_pipeline)"
   ]
  },
  {
   "cell_type": "code",
   "execution_count": 4,
   "metadata": {},
   "outputs": [
    {
     "ename": "ImportError",
     "evalue": "cannot import name 'PatternTagger' from 'textblob.en' (C:\\Users\\guill\\anaconda3\\lib\\site-packages\\textblob\\en\\__init__.py)",
     "output_type": "error",
     "traceback": [
      "\u001b[1;31m---------------------------------------------------------------------------\u001b[0m",
      "\u001b[1;31mImportError\u001b[0m                               Traceback (most recent call last)",
      "\u001b[1;32m<ipython-input-4-8813be19776b>\u001b[0m in \u001b[0;36m<module>\u001b[1;34m\u001b[0m\n\u001b[0;32m      1\u001b[0m \u001b[1;32mfrom\u001b[0m \u001b[0mtextblob\u001b[0m \u001b[1;32mimport\u001b[0m \u001b[0mTextBlob\u001b[0m\u001b[1;33m\u001b[0m\u001b[1;33m\u001b[0m\u001b[0m\n\u001b[1;32m----> 2\u001b[1;33m \u001b[1;32mfrom\u001b[0m \u001b[0mtextblob\u001b[0m\u001b[1;33m.\u001b[0m\u001b[0men\u001b[0m \u001b[1;32mimport\u001b[0m \u001b[0mPatternTagger\u001b[0m\u001b[1;33m,\u001b[0m \u001b[0mPatternAnalyzer\u001b[0m\u001b[1;33m\u001b[0m\u001b[1;33m\u001b[0m\u001b[0m\n\u001b[0m",
      "\u001b[1;31mImportError\u001b[0m: cannot import name 'PatternTagger' from 'textblob.en' (C:\\Users\\guill\\anaconda3\\lib\\site-packages\\textblob\\en\\__init__.py)"
     ]
    }
   ],
   "source": [
    "from textblob import TextBlob\n",
    "from textblob.en import PatternTagger, PatternAnalyzer\n",
    "\n"
   ]
  },
  {
   "cell_type": "markdown",
   "metadata": {},
   "source": [
    "Ajout d'une variable \"d'influence\" du tweet en le pondérant en fonction du nombre de ces retweet pour prendre en compte le fait qu'un tweet plus vu ait un plus gros impact.\n",
    "Le dataset que nous avons téléchargé nous donne le nombre de like et de retweet, nous allons donc multiplier le nombre de like et de retweet. "
   ]
  },
  {
   "cell_type": "markdown",
   "metadata": {},
   "source": [
    "Pour conclure : n'ayant pas réussis à mener jusqu'au bout cette étude, j'ai pu néanmoins consulter sur internet des résultats qui traitent du même sujet. Notamment une étude de l'université de Comillas (https://drive.google.com/file/d/1we5kywWQqQRYX0Hy8edsKKN7PdaaFuzY/view) qui traite du sentiments des tweets et du nombre de tweets comme indicateur du prix du bitcoin. Si le volume de tweet lui est un bon indicateur du prix des bitcoins, l'analyse de sentiment quant à elle ne sert pas d'indicateur pour le prix du Bitcoin. En effet l'évolution, l'accumulations de tweets tantôt négatif, tantôt positif est totalement aléatoire et n'est pas corrélé au prix du bitcoin. Cependant cette étude ne semble pas mentionner une pondération des tweets en fonctions de leur \"influence\", comme décrit plus haut. Il sera par la suite intéressant de refaire la même étude de sentiments en prenant en compte l'impact plus ou moins important que peut avoir un tweet."
   ]
  }
 ],
 "metadata": {
  "kernelspec": {
   "display_name": "Python 3",
   "language": "python",
   "name": "python3"
  },
  "language_info": {
   "codemirror_mode": {
    "name": "ipython",
    "version": 3
   },
   "file_extension": ".py",
   "mimetype": "text/x-python",
   "name": "python",
   "nbconvert_exporter": "python",
   "pygments_lexer": "ipython3",
   "version": "3.8.3"
  }
 },
 "nbformat": 4,
 "nbformat_minor": 4
}
